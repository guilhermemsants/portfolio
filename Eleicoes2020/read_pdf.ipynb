{
 "cells": [
  {
   "cell_type": "markdown",
   "metadata": {},
   "source": [
    "Read pdfs"
   ]
  },
  {
   "cell_type": "code",
   "execution_count": 29,
   "metadata": {},
   "outputs": [],
   "source": [
    "# Importing necessary libraries\n",
    "import re\n",
    "import fitz\n",
    "import os\n",
    "import pandas as pd\n",
    "from unicodedata import normalize\n",
    "from bs4 import BeautifulSoup\n",
    "import nltk\n",
    "from nltk.corpus import stopwords\n",
    "from string import punctuation\n",
    "import joblib"
   ]
  },
  {
   "cell_type": "code",
   "execution_count": 30,
   "metadata": {},
   "outputs": [],
   "source": [
    "# # filename = '5_1601087873469.pdf'\n",
    "# filename = '5_1601042036413.pdf'\n",
    "# # filename = '5_1600990433380.pdf'\n",
    "# doc = fitz.open(f'E:\\Projetos\\Eleicoes2020\\proposta\\{filename}')"
   ]
  },
  {
   "cell_type": "code",
   "execution_count": 31,
   "metadata": {},
   "outputs": [],
   "source": [
    "def clean_pdf(text):\n",
    "    \n",
    "    # Removing \\n\n",
    "    nclean = re.sub('\\n', '', text)\n",
    "    \n",
    "    # Removing multiple spaces\n",
    "    mclean = re.sub(' +', ' ', nclean)\n",
    "    \n",
    "    # Remove HTML tags\n",
    "    cleanr = re.compile('<.*?>')\n",
    "    cleantext = re.sub(cleanr, '', mclean)\n",
    "    \n",
    "    return cleantext"
   ]
  },
  {
   "cell_type": "code",
   "execution_count": 54,
   "metadata": {},
   "outputs": [],
   "source": [
    "def split_pdf_by_markers(text):\n",
    "    \n",
    "    # Bullet points\n",
    "    btext = text.split(u'\\u2022')\n",
    "    b2text = [split for segments in btext for split in segments.split(u'\\uF0B7')]\n",
    "    b3text = [split for segments in b2text for split in segments.split(u'\\uF0A7')]\n",
    "    \n",
    "    # Arrowhead\n",
    "    atext = [split for segments in b3text for split in segments.split(u'\\u27a2')]\n",
    "    \n",
    "    # Number list\n",
    "    number_pattern = '\\d+\\s*(?:\\.\\d+)*[-\\\\.)]?\\s+'\n",
    "    ntext = [split for segments in atext for split in re.split(number_pattern, segments)]\n",
    "    \n",
    "    # Dash list and removing the first element\n",
    "    dtext = [split for segments in ntext for split in re.split('(?<=\\s)-(?=\\s)', segments)]\n",
    "    first_element = dtext[0]\n",
    "    dtext.pop(0)\n",
    "    \n",
    "    # Split nonproposals in sentences by punctuation\n",
    "    nonproposals = re.split('(?<=[.?!]) +', first_element)\n",
    "    \n",
    "    # ARRUMAR UM CANTO PRA ESSAS LIMPEZAS\n",
    "    # Remove whitespace at the beggining and end of string\n",
    "    wtext = [segment.strip() for segment in dtext]\n",
    "    \n",
    "    # Remove strings with less than 2 words\n",
    "    ltext = [segment for segment in wtext if len(segment) > 2]\n",
    "    \n",
    "    # Taking strings that ends with ;\n",
    "    stext = [segment for segment in ltext if not segment.endswith(';')]\n",
    "    proposals = [segment.replace(';', '') for segment in ltext if segment.endswith(';')]\n",
    "\n",
    "    return stext, proposals, nonproposals"
   ]
  },
  {
   "cell_type": "code",
   "execution_count": 56,
   "metadata": {},
   "outputs": [],
   "source": [
    "def read_pdf(doc):\n",
    "    text = ''\n",
    "    for page in doc:\n",
    "        content = page.getText('blocks')\n",
    "        temp = ' '.join([aux[4] for aux in content])\n",
    "        text = text + ' '+ temp    \n",
    "    return text"
   ]
  },
  {
   "cell_type": "code",
   "execution_count": 64,
   "metadata": {},
   "outputs": [
    {
     "name": "stdout",
     "output_type": "stream",
     "text": [
      "1.pdf\n",
      "[[' MOVIMENTO-' 0 1]]\n",
      "(1, 3)\n",
      "2.pdf\n",
      "[['  PLANO DE GOVERNO Projeto “Natal Merece Respeito!” SLOGAN: “Mudar, renovar e recriar!'\n",
      "  0 1]\n",
      " ['Natal melhorar!' 0 1]\n",
      " ['JAIDY OLIVER SHIRLEI MEDEIROS ' 0 1]]\n",
      "(3, 3)\n",
      "3.pdf\n",
      "[[' ' 0 1]]\n",
      "(1, 3)\n",
      "4.pdf\n",
      "[[' Plano de GovernoJEANPREFEITO ELIZABETHVICE 2021-' 0 1]]\n",
      "(1, 3)\n",
      "6.pdf\n",
      "[[' ÍNDICE Chegou a hora de inserir Natal no novo Brasil ................................................................'\n",
      "  0 1]\n",
      " ['' 0 1]]\n",
      "(2, 3)\n"
     ]
    }
   ],
   "source": [
    "path_to_downloads = 'E:\\Projetos\\Eleicoes2020\\proposta'\n",
    "\n",
    "dict_pages = {}\n",
    "columns = ['values', 'proposal', 'nonproposal']\n",
    "data = pd.DataFrame(index = columns)\n",
    "\n",
    "for filename in os.listdir(path_to_downloads):\n",
    "    doc = fitz.open(f'E:\\Projetos\\Eleicoes2020\\proposta\\{filename}')\n",
    "    text = read_pdf(doc)\n",
    "\n",
    "    ctext = clean_pdf(text)\n",
    "    stext, proposals, nonproposals = split_pdf_by_markers(ctext)\n",
    "\n",
    "    # Create labeled dataset\n",
    "    zeros = [0 for x in range(len(proposals))]\n",
    "    ones = [1 for x in range(len(proposals))]\n",
    "    df_proposals = pd.DataFrame([proposals, ones, zeros], index=columns).T\n",
    "#     print(df_proposals.shape)\n",
    "    \n",
    "    zeros = [0 for x in range(len(nonproposals))]\n",
    "    ones = [1 for x in range(len(nonproposals))]\n",
    "    df_nonproposals = pd.DataFrame([nonproposals, zeros, ones], index=columns).T\n",
    "    print(filename)\n",
    "    print(df_nonproposals.values)\n",
    "    print(df_nonproposals.shape)\n",
    "    \n",
    "    data_aux = pd.concat([df_proposals, df_nonproposals]).reset_index(drop=True)\n",
    "    data.append(data_aux).dropna()"
   ]
  },
  {
   "cell_type": "code",
   "execution_count": 42,
   "metadata": {},
   "outputs": [
    {
     "data": {
      "text/html": [
       "<div>\n",
       "<style scoped>\n",
       "    .dataframe tbody tr th:only-of-type {\n",
       "        vertical-align: middle;\n",
       "    }\n",
       "\n",
       "    .dataframe tbody tr th {\n",
       "        vertical-align: top;\n",
       "    }\n",
       "\n",
       "    .dataframe thead th {\n",
       "        text-align: right;\n",
       "    }\n",
       "</style>\n",
       "<table border=\"1\" class=\"dataframe\">\n",
       "  <thead>\n",
       "    <tr style=\"text-align: right;\">\n",
       "      <th></th>\n",
       "    </tr>\n",
       "  </thead>\n",
       "  <tbody>\n",
       "    <tr>\n",
       "      <th>values</th>\n",
       "    </tr>\n",
       "    <tr>\n",
       "      <th>proposal</th>\n",
       "    </tr>\n",
       "    <tr>\n",
       "      <th>nonproposal</th>\n",
       "    </tr>\n",
       "  </tbody>\n",
       "</table>\n",
       "</div>"
      ],
      "text/plain": [
       "Empty DataFrame\n",
       "Columns: []\n",
       "Index: [values, proposal, nonproposal]"
      ]
     },
     "execution_count": 42,
     "metadata": {},
     "output_type": "execute_result"
    }
   ],
   "source": [
    "data"
   ]
  },
  {
   "cell_type": "code",
   "execution_count": null,
   "metadata": {},
   "outputs": [],
   "source": [
    "# Remove strings that doesn't have verbs\n",
    "tagger = joblib.load('POS_tagger_brill.pkl')\n",
    "stop_words = set(stopwords.words('portuguese') + list(punctuation))\n",
    "\n",
    "for item in reversed(ltext):\n",
    "    words = nltk.word_tokenize(item.lower())\n",
    "    words_without_stopwords = [word for word in words if word not in stop_words]\n",
    "    tagged_words = tagger.tag(words_without_stopwords)\n",
    "    \n",
    "    count_verbs = [tag for tag in tagged_words if tag[1] == 'V']\n",
    "    if len(count_verbs) == 0:\n",
    "        ltext.remove(item)"
   ]
  },
  {
   "cell_type": "code",
   "execution_count": null,
   "metadata": {},
   "outputs": [],
   "source": [
    "print(atext)\n",
    "print(ltext)"
   ]
  }
 ],
 "metadata": {
  "kernelspec": {
   "display_name": "Python 3",
   "language": "python",
   "name": "python3"
  },
  "language_info": {
   "codemirror_mode": {
    "name": "ipython",
    "version": 3
   },
   "file_extension": ".py",
   "mimetype": "text/x-python",
   "name": "python",
   "nbconvert_exporter": "python",
   "pygments_lexer": "ipython3",
   "version": "3.7.6"
  }
 },
 "nbformat": 4,
 "nbformat_minor": 4
}
