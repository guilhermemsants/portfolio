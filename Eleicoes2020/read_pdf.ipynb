{
 "cells": [
  {
   "cell_type": "markdown",
   "metadata": {},
   "source": [
    "Read pdfs"
   ]
  },
  {
   "cell_type": "code",
   "execution_count": 38,
   "metadata": {},
   "outputs": [],
   "source": [
    "# Importing necessary libraries\n",
    "import re\n",
    "import fitz\n",
    "import os\n",
    "import pandas as pd\n",
    "from unicodedata import normalize\n",
    "from bs4 import BeautifulSoup"
   ]
  },
  {
   "cell_type": "code",
   "execution_count": 39,
   "metadata": {},
   "outputs": [],
   "source": [
    "path_to_downloads = 'E:\\Projetos\\Eleicoes2020\\proposta'\n",
    "#for fname in os.listdir(path_to_downloads):\n",
    "    #print(fname)"
   ]
  },
  {
   "cell_type": "code",
   "execution_count": 40,
   "metadata": {},
   "outputs": [],
   "source": [
    "# filename = '5_1601087873469.pdf'\n",
    "filename = '5_1601042036413.pdf'\n",
    "# filename = '5_1600990433380.pdf'\n",
    "doc = fitz.open(f'E:\\Projetos\\Eleicoes2020\\proposta\\{filename}')"
   ]
  },
  {
   "cell_type": "code",
   "execution_count": 41,
   "metadata": {},
   "outputs": [],
   "source": [
    "def clean_text(text):\n",
    "    \n",
    "    # Removing \\n\n",
    "    clean_text = re.sub('\\n', '', text)\n",
    "    \n",
    "    # Removing multiple spaces\n",
    "    clean_text = re.sub(' +', ' ', clean_text)\n",
    "    \n",
    "    # Remove HTML tags\n",
    "    cleanr = re.compile('<.*?>')\n",
    "    cleantext = re.sub(cleanr, '', clean_text)\n",
    "    return cleantext"
   ]
  },
  {
   "cell_type": "code",
   "execution_count": 44,
   "metadata": {},
   "outputs": [],
   "source": [
    "def split_by_markers(text):\n",
    "    \n",
    "    # Bullet points\n",
    "    btext = text.split(u'\\u2022')\n",
    "    \n",
    "    # Number list\n",
    "    number_pattern = '\\d+\\s*(?:\\.\\d+)*[-\\\\.)]?\\s+'\n",
    "    ntext = [split for segments in btext for split in segments.split(number_pattern)]\n",
    "    \n",
    "    # Dash list\n",
    "    dtext = [split for segments in ntext for split in segments.split('-')]\n",
    "    \n",
    "    return dtext"
   ]
  },
  {
   "cell_type": "code",
   "execution_count": 55,
   "metadata": {},
   "outputs": [
    {
     "name": "stdout",
     "output_type": "stream",
     "text": [
      "['  PLANO DE GOVERNO Projeto “Natal Merece Respeito!” SLOGAN: “Mudar, renovar e recriar! Natal melhorar! JAIDY OLIVER SHIRLEI MEDEIROS 2021 A 2024  “Pois, assim como a mulher proveio do homem, também o homem nasce da mulher. Mas tudo provém de Deus” Pv 31 :18 “Administra com sabedoria, e seus negócios produzem, lucros; mesmo tarde da noite sua lâmpada não se apaga” Coríntios 11:12 INTRODUÇÃO: Este é um projeto para eleger uma Prefeita que é uma mulher além do seu tempo. PRINCIPAIS BANDEIRAS: Nossa bandeira é Natal! Não temos bandeiras lutamos por todos cidadãos natalenses quer sejam minorias ou não. EIXO I – DESENVOLVIMENTO HUMANO, CIDADANIA E PARTICIPAÇÃO SOCIAL. O Planejamento está voltado para a promoção do bem', 'estar dos cidadãos de Natal. PARA ÁREA DA EDUCAÇÃO: ', ' Aumentar em pelo menos uma por região da cidade as escolas de Ensino Integral. ', ' Pagar o piso salarial dos professores; ', ' Investir na formação contínua do Profissional da Educação ', ' Implantar aula de robótica no ensino fundamental II; ', ' Valorização da educação básica e ampliar a rede de ensino básico em tempo integral; ', ' Inserção do assistente social e do psicólogo nas escolas.  PARA ÁREA DA SAÚDE: ', ' Zerar as fila de exames e cirurgias com o Projeto CUIDANDO PARTICURLAMENTE, com a realização de convênios com a rede particular de saúde; ', ' Criar novos serviços de POLICLINICAS para otimizar fluxo assistencial; ', ' Fortalecer/ampliar o centro especializado de atenção a saúde do idoso – CEASI; ', ' Ampliar através do projeto MENTE SÃ, MUNICIPIO SÃO, Os atendimentos psicológicos e psiquiátricos com a realização de convênios com a rede particular de saúde para acompanhamento dos casos de depressão, automutilação, álcool e outras drogas; ', ' Fortalecer os serviços odontológicos e implantar o serviço móvel de saúde e de odontologia (ônibus da saúde), com a inserção também do sistema oftalmológico, extremamente necessário, uma vez que o problema da visão é um dos principais fatores que dificultam o processo de aprendizagem do alunado; ', ' Capacitar servidores para atendimento humanizado. PARA ÁREA DE SAÚDE ANIMAL: ', ' UPSA (unidade pública de saúde animal), sendo uma na zona norte e outra na zona sul de Natal para pequenos e grandes animais;  ', ' Centro público de imagem, práticas integrativas e fisioterapia à saúde animal; ', ' Cemitério público para animais; ', ' Lar temporário público para os animais de rua com a finalidade destes irem pra adoção; ', ' Centro de cremação público para animais; ', ' Melhora salarial dos funcionários concursados na área da saúde animal; ', ' Criar um parque público para encontros, feiras e eventos de animais todo adaptado para os pets; ', ' Controle populacional dos animais de rua pela UPSA, através de castração; ', ' Melhor qualidade de vida para os animais de rua; ', ' Regulamentar a vacina da leishmaniose, de forma pública, visto que é uma zoonose com campanhas de vacinação da mesma forma como ocorre com a de raiva; ', ' Distribuição de medicação para tratamento dos animais pela UPSA, mediante situação financeira do tutor, uma vez que haverá fiscalização dos dados em cadastro por visita de fiscal ao estabelecimento residencial. PARA ÁREA DO TRABALHO E ASSISTÊNCIA SOCIAL: ', ' Intensificar e diversificar os cursos profissionalizantes e realiza', 'los em todas as regiões da cidades nos conselhos comunitários através dos projeto VULNERABILIDADE ZERO PARA ÁREA DA MOBILIDADE URBANA;  ', ' Implantação do projeto FLUIR NATAL que prevê conclusão do Plano de Mobilidade Urbana, a retirada das decisões sobre o transporte público do SETURN, o reordenamento das vias de corredores de ônibus principalmente nas áreas periféricas, aumento do número de estações de transferência e construção de abrigos novos principalmente em locais em que o ônibus é o único meio de transporte público. PROGRAMA TEMÁTICO: Natal Mais Saudável. ESPORTE E LAZER Objetivo: Realizar o projeto NATAL MAIS SAUDÁVEL, que irá promover qualidades de vida em todas as comunidades, bairros e assentamentos/ocupações. ', ' Restaurar os equipamentos de esporte público; ', ' Promover e estimular práticas esportivas realizadas por instrutores especializados; ', ' Incentivar o Esporte nas escolas municipais de Natal; ', ' Fazer parceria com fundações e cidades em outros países para trabalharmos o esporte com intercâmbios, fazendo Natal um celeiro de grandes estrelas nos esportes. PROGRAMA TEMÁTICO: CULTURA ', ' PROJETO DIALOGANDO COM A ARTE. ÁREA DA FUNDAÇÃO CULTURAL CAPITANIA DAS ARTES  Macro ações: Dialogar a cultural de Natal com artistas através do projeto DIALOGANDO COM A ARTE; ', ' Diversificar editais para atender outras expressões artísticas; ', ' Abrir para participação de artistas os conselhos reguladores; ', ' Investir em artistas locais para as realizações de shows em festas populares bancadas pela prefeitura; ', ' Cultura com escolas de Música, de Teatro dentro da escola nos finais de semana; ', ' Implantar a Escola Municipal de Música; ', \" Implantação dos 'clubes de mães' para o desenvolver de atividades artesanais, por zona de Natal. SEGURANÇA PÚBLICA (URBANA). \", ' Aumentar os salários, equipar e capacitar continuamente a Guarda Municipal, para uma Guarda Municipal mais atuante; ', ' Viabilizar o projeto GUARDANDO A ORLA, com a Guarda Municipal, fazendo ronda com apoio móvel devidamente equipado; ', ' Expandir as atribuições da Guarda Municipal de Natal inclusive quanto a proteção do patrimônio do município. Em conformidade com a Lei Orgânica e Constituição Federal;  ', ' Investir em implantação de serviços de câmaras nos bairros para auxiliar na prevenção e elucidação de crimes através do projeto TÔ DE OLHO; ', ' Intensificar a instalação de câmaras na área central da cidade, bem como em toda área comercial, para auxiliar a Policia Militar no controle e segurança da população, uma vez que está provada, que tal medida surtiu resultados positivos em cidades do mesmo padrão de Natal, tanto como inibidor dos delitos – prevenção ', ' como na prisão e apreensão das pessoas que infringem a lei. Com monitoramento de vias principais da cidade, bem como órgãos públicos e áreas públicas de interesse (Pronto Socorro, Terminal Rodoviário etc.) ser monitorado por uma central da Prefeitura na Guarda Municipal, com amplo uso (policiamento preventivo, questões de trânsito, uso e ocupação de solo, questões ambientais, bombeiros, gerenciamento de crises e outros), com compartilhamento de imagens ou permitindo a colocação dos profissionais de diversos órgãos nesta central. Executados em redes compartilhadas ou seja parcerias público privadas. Alta tecnologia e bases móveis de apoio e controle; ', ' Recriar a força tarefa nos conjuntos habitacionais, com o monitoramento em vídeos, e informantes diretos em grupo residencial para diminuir a insegurança na Cidade; ', ' Intensificar e diversificar os cursos profissionalizantes e realiza', 'los em todas as regiões da cidades nos conselhos comunitários através dos projeto VULNERABILIDADE ZERO PARA ÁREA DA MOBILIDADE URBANA; ', ' Implantação do projeto FLUIR NATAL que prevê conclusão do Plano de Mobilidade Urbana, a retirada das decisões sobre o transporte público do  SETURN, o reordenamento das vias de corredores de ônibus principalmente nas áreas periféricas, aumento do número de estações de transferência e construção de abrigos novos principalmente em locais em que o ônibus é o único meio de transporte público. PROGRAMA TEMÁTICO: GESTÃO ADMINISTRATIVA E PLANEJAMENTO. FOCO: GESTÃO PARTICIPATIVA. Objetivo: Trabalhar a Gestão Compartilhada, a Gestão em Redes, formando parcerias com Empresas e Instituições públicas e privadas para o bom desenvolvimento da cidade do Natal. ÁREA DO PLANEJAMENTO: ', ' Planejar Natal para os próximos dez anos, para ser a cidade com o maior potencial econômico e turístico do nordeste com o projeto NATAL 10+. ÁREA DA ADMINISTRAÇÃO: Objetivo: Promover a integração e a digitalização de 100% da comunicação entre as secretarias buscando otimizar ações e economizar recursos; ', ' Enxugar a máquina pública com junção de secretarias afins; ', ' Promover a Gestão Participativa itinerante pelos bairros; ', ' Apoiar as associações e conselhos comunitários de bairros, na medida em que alguns conjuntos/bairros tem Conselhos Comunitários desprovidos de Recursos;  ', ' Recriação das Subprefeituras, nas 04 (quatro) zonas, sendo que na Zona Norte , terá 03 pontos de apoio; ', ' Estruturar um DEPARTAMENTO DE AÇÕES COMUNITÁRIAS, dentro da SECRETARIA DE TRABALHO E ASSISTÊNCIA SOCIAL. ÁREA DA TRIBUTAÇÃO: ', ' Não criar novo imposto ou taxa municipal e diminuir tributos de setores que possam gerar mais empregos. ÁREA DA OUVIDORIA GERAL DO MUNICÍPIO: ', ' Modernizar e potencializar a Ouvidoria para implantar o projeto OUVINDO NATAL; ', ' Projeto OUVINDO NATAL. Uma ouvidoria, onde as pessoas, levarão suas queixas, a problemática do seu bairro ás Subprefeituras. EIXO II ', ' DESENVOLVIMENTO URBANO E METROPOLITANDO. ÁREA DE OBRAS PÚBLICAS E INFRAESTRUTURA: ', ' Acelerar a conclusão e fiscalização das obras que estão em andamento através do projeto MÃOS A OBRA; ', ' Plano Cicloviário de Natal – Reorganizar e dá continuidade, chamar os ciclistas para opinar, dá sugestões e participar da reconstrução do projeto;  ', ' Trabalhar a Orla com infraestrutura que a Capital merece e precisa, evitando os turistas procurarem outras capitais e deixar nosso povo contribuinte satisfeito; ', ' Realizar melhorias no Departamento Municipal de Trânsito, atuando junto com profissional especializado para atuar na área de engenharia de trânsito, para melhor fluidez e segurança; ', ' Realizar Cursos e Estágios de Aperfeiçoamento Profissional aos Agentes Municipais de Trânsito e solicitação de melhora no seu efetivo e em seus meios (viaturas, sinalização, equipamentos etc..) em vista a nova forma de atuação a ser desenvolvida. ÁREA DOS SERVIÇOS URBANOS: ', ' Levar para os bairros cumprindo calendário ações integradas de serviços urbanos através do projeto itinerante TÔ NO BAIRRO; ', ' Revitalizar os espaços públicos (áreas verdes); ', ' Trazer para discussão popular o Plano Diretor e realizar audiências públicas por bairro para ouvir o cidadão e só assim fazer as mudanças necessárias; ', ' Pôr em prática a revitalização urbanística através do projeto TIRANDO NATAL DO ABANDONO. ÁREA DOS SERVIÇOS DE SANEAMENTO BÁSICO DO MUNICÍPIO DO NATAL:  ', ' Buscar Recursos Federais para a execução e realizar convênios com empresas privadas para o projeto TIRANDO NATAL DA LAMA; ', ' Intervir artisticamente nos espaços urbanos, inserindo a escultura e as artes plásticas presentes desde a concepção dos projetos de reforma urbana na gestão da Prefeitura. ÁREA DOS SERVIÇOS URBANOS DE NATAL: ', ' Transformar Natal na capital mais limpa do nordeste através do projeto TIRANDO NATAL DO LIXO; ', ' Coletar até 2024 pelo menos 90% dos resíduos sólidos produzidos na nossa capital através da implantação de usinas de reciclagem nas regiões da cidade com o projeto LIMPANDO A CIDADE GERANDO RENDA; ', ' Promover uma melhoria na qualidade da iluminação em áreas deficitárias, a fim de proporcionar melhor segurança aos cidadãos, que inclusive pagam uma taxa para isso. ÁREA DE TURISMO ', ' Diminuir tributos de setores que atuam com o turismo; .', ' Investir na venda da imagem de Natal com polo de turismo de eventos ', ' Investir nos roteiros turístico dentro da própria cidade ', ' Fazer da Estrada da Redinha uM corredor turístico como a avenida Engenheiro Roberto Freire. EIXO III – DESENVOLVIMENTO ECONÔMICO E SUSTENTÁVEL.  Desenvolver o empreendedorismo nas escolas a partir dos primeiros anos, até o ensino fundamental maior; Criar um Balcão empreendedor, onde os desempregados da Pandemia possam criar negociações e ofertar emprego na sua comunidade; PROGRAMA TEMÁTICO: Ciência, Tecnologia e Inovação. Macro ações: ', ' Desenvolver aplicativos e softwares que facilitem a interação entre a gestão e o Cidadão em parcerias com instituições privadas e públicas; ', ' Reestruturar o Portal de Metas do município; ', ' Criar um Sistema de Informação Cultural Integrado. Para fazer mais e melhor, precisamos formar um banco de dados dinâmico com vários enfoques, como: O fazer cultural, a produção cultural, espaços culturais, eventos, ações, economia cultural, etc. Para potencializar as ações da Prefeitura temos que saber quem faz cultura, como faz e quanto faz. Com o mapa da Cultura as parcerias serão mais aplicáveis, exequíveis e concretas. Consequentemente melhoram', 'se as Políticas Culturais, a Gestão Cultural, etc; ', ' Analisar e avançar o Programa Natal Cidades Inteligentes e Humanas proposto na gestão passada por entender a importância de sua aplicabilidade em especial no período pós', ' pandêmico; ', ' Criar um sistema de monetização através de moeda digital para a reciclagem de lixo, gerando renda para os estudantes e a família;  ', ' Estruturar tecnologicamente o sucateamento da prefeitura em uma base de dados em blockchain, onde acabaremos com filas em postos de saúde e escolas, onde através de um celular, pode se tirar uma ficha e fazer matriculas na escola. ÁREA DO MEIO AMBIENTE E URBANISMO ', ' Trazer para discussão popular o Plano Diretor e realizar audiências públicas por bairro para ouvir o cidadão e só assim fazer as mudanças necessárias ', ' Realizar o plano de Manejo do Parque Da Cidade e torna', 'lo um grande empreendimento turístico; ', ' Pôr em prática a revitalização urbanística através do projeto TIRANDO NATAL DO ABANDONO PARA. ÁREA DE POLÍTICAS PARA AS MULHERES ', ' Buscar parceria federal para contemplar Natal com a CASA DA MULHER BRASILEIRA; ', ' Buscar parceria com o Estado para implantação das CASAS DA SORORIDADE nas regiões da cidade para receber por pelo menos por 24 horas através de uma equipe multidisciplinar mulheres vítimas de violência doméstica. PARA ÁREA DA OUVIDORIA GERAL DO MUNICÍPIO ', ' Modernizar e potencializar a Ouvidoria para implantar o projeto OUVINDO NATAL.  PARA ÁREA DOS SERVIÇOS DE SANEAMENTO BÁSICO DO MUNICÍPIO DO NATAL ', ' Buscar Recursos Federais para e realizar convênios com empresas privadas para o projeto TIRANDO NATAL DA LAMA PARA ÁREA DOS SERVIÇOS URBANOS DE NATAL; ', ' Transformar Natal na capital mais limpa do nordeste através do projeto TIRANDO NATAL DO LIXO; ', ' Coletar até 2024 pelo menos 90% dos resíduos sólidos produzidos na nossa capital através da implantação de usinas de reciclagem nas regiões da cidade com o projeto LIMPANDO A CIDADE GERANDO RENDA. ']\n"
     ]
    }
   ],
   "source": [
    "number = 0\n",
    "dict_pages = {}\n",
    "text = ''\n",
    "for page in doc:\n",
    "    content = page.getText('blocks')\n",
    "    \n",
    "    temp = ' '.join([aux[4] for aux in content])\n",
    "    text = text + ' '+ temp    \n",
    "    \n",
    "    number += 1\n",
    "    \n",
    "ctext = clean_text(text)\n",
    "stext = split_by_markers(ctext)\n",
    "print(stext)\n",
    "   \n",
    "    \n",
    "#print(dict_pages)\n",
    "#data = pd.DataFrame(dict_pages.items())"
   ]
  },
  {
   "cell_type": "code",
   "execution_count": null,
   "metadata": {},
   "outputs": [],
   "source": []
  },
  {
   "cell_type": "code",
   "execution_count": null,
   "metadata": {},
   "outputs": [],
   "source": []
  }
 ],
 "metadata": {
  "kernelspec": {
   "display_name": "Python 3",
   "language": "python",
   "name": "python3"
  },
  "language_info": {
   "codemirror_mode": {
    "name": "ipython",
    "version": 3
   },
   "file_extension": ".py",
   "mimetype": "text/x-python",
   "name": "python",
   "nbconvert_exporter": "python",
   "pygments_lexer": "ipython3",
   "version": "3.7.6"
  }
 },
 "nbformat": 4,
 "nbformat_minor": 4
}
