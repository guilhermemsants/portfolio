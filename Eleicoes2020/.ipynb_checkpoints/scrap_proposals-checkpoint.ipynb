{
 "cells": [
  {
   "cell_type": "markdown",
   "metadata": {},
   "source": [
    "# Scraping"
   ]
  },
  {
   "cell_type": "markdown",
   "metadata": {},
   "source": [
    "Script to download government proposals for each mayor candidate in a defined state and city"
   ]
  },
  {
   "cell_type": "code",
   "execution_count": 1,
   "metadata": {},
   "outputs": [],
   "source": [
    "# Importing necessary libraries\n",
    "from selenium import webdriver\n",
    "from selenium.webdriver.chrome.options import Options\n",
    "from selenium.webdriver.common.by import By\n",
    "from selenium.webdriver.support.ui import WebDriverWait\n",
    "from selenium.webdriver.support.expected_conditions import presence_of_element_located\n",
    "from selenium.webdriver.support import expected_conditions as EC\n",
    "from selenium.common.exceptions import NoSuchElementException\n",
    "from selenium.common.exceptions import StaleElementReferenceException\n",
    "import time\n",
    "import os\n",
    "import sys"
   ]
  },
  {
   "cell_type": "code",
   "execution_count": 2,
   "metadata": {},
   "outputs": [],
   "source": [
    "# Configuring the headless web browser\n",
    "chrome_driver_path = 'E:/Projetos/Eleicoes2020/chromedriver'\n",
    "chrome_options = Options()\n",
    "\n",
    "# Configure the webdriver in order to save pdf files\n",
    "chrome_options.add_experimental_option('prefs', {\n",
    "\"download.default_directory\": \"E:\\Projetos\\Eleicoes2020\\propostas\", #Change default directory for downloads\n",
    "\"download.prompt_for_download\": False, #To auto download the file\n",
    "\"download.directory_upgrade\": True,\n",
    "\"plugins.always_open_pdf_externally\": True #It will not show PDF directly in chrome\n",
    "})\n",
    "\n",
    "# Define the webdriver to be headless\n",
    "chrome_options.add_argument('--headless')\n",
    "webdriver = webdriver.Chrome(\n",
    "    executable_path=chrome_driver_path, options=chrome_options\n",
    ")"
   ]
  },
  {
   "cell_type": "code",
   "execution_count": 3,
   "metadata": {},
   "outputs": [],
   "source": [
    "path_to_downloads = 'E:\\Projetos\\Eleicoes2020\\propostas'\n",
    "\n",
    "def download_wait(path_to_downloads):\n",
    "    '''Stop code until the download is done\n",
    "    \n",
    "    Keyword arguments:\n",
    "    path_to_downloads -- folder where the method keeps checking until the download is finished\n",
    "    '''\n",
    "    seconds = 0 # If wants a minimum timing\n",
    "    dl_wait = True\n",
    "    \n",
    "    #while dl_wait and seconds < 20:\n",
    "    while dl_wait:\n",
    "        time.sleep(1)\n",
    "        dl_wait = False\n",
    "        for fname in os.listdir(path_to_downloads):\n",
    "            if fname.endswith('.crdownload'):\n",
    "                dl_wait = True\n",
    "        seconds += 1\n",
    "    return seconds"
   ]
  },
  {
   "cell_type": "code",
   "execution_count": 4,
   "metadata": {},
   "outputs": [],
   "source": [
    "def download_proposal(state, city, webdriver, path_to_downloads):\n",
    "    state_url = f'http://divulgacandcontas.tse.jus.br/divulga/#/estados/2020/2030402020/{state}/municipios'\n",
    "    \n",
    "    with webdriver as driver:    \n",
    "        # Set timeout time\n",
    "        ignored_exceptions=(NoSuchElementException,StaleElementReferenceException,)\n",
    "        wait = WebDriverWait(driver, 20, ignored_exceptions=ignored_exceptions)\n",
    "\n",
    "        # Open state url\n",
    "        driver.get(state_url)\n",
    "\n",
    "        # Waits until city appears on the list\n",
    "        xpath = f'//*[contains(div/text(), \"{city}\")]'\n",
    "        wait.until(EC.presence_of_element_located((By.XPATH, xpath)))\n",
    "\n",
    "        # Click done by javascript\n",
    "        element = driver.find_element_by_xpath(xpath)\n",
    "        driver.execute_script('arguments[0].click();', element)\n",
    "\n",
    "        # Wait until at least one candidate appears\n",
    "        wait.until(EC.presence_of_element_located((By.XPATH, '//div[contains(text(), \"Deferido\")]')))\n",
    "\n",
    "        # Calculate the number of candidates\n",
    "        num_rows = driver.find_elements_by_xpath(\"//table[@class='table table-hover visible-xs visible-sm dvg-margin-top-10']/tbody/tr\")\n",
    "\n",
    "        # Interate over each candidate\n",
    "        for i in range(len(num_rows)):\n",
    "            table = driver.find_element_by_xpath(\"//table[@class='table table-hover visible-xs visible-sm dvg-margin-top-10']\")\n",
    "            row = table.find_element_by_css_selector('tr:nth-of-type({})'.format(i+1))\n",
    "\n",
    "            # Clicks on candidate\n",
    "            element = row.find_elements_by_xpath(\".//a[@class = 'dvg-link-list-mobile']\")\n",
    "            driver.execute_script('arguments[0].click();', element[0])\n",
    "\n",
    "            wait.until(EC.presence_of_element_located((By.XPATH, '//span[contains(text(), \"Proposta de Governo\")]')))\n",
    "\n",
    "            # Save candidate page to return after downloading\n",
    "            candidate_url_id = driver.current_window_handle\n",
    "\n",
    "            # Goes to the government proposal\n",
    "            element = driver.find_elements_by_xpath('//a[contains(span/text(), \"Proposta de Governo\")]')         \n",
    "            driver.execute_script('arguments[0].click();', element[0])\n",
    "\n",
    "            # Since the file opens in a new tab, switch to it in order to download\n",
    "            for window_handle in driver.window_handles:\n",
    "                if window_handle != candidate_url_id:\n",
    "                    driver.switch_to.window(window_handle)\n",
    "                    break\n",
    "                   \n",
    "            driver.switch_to.window(candidate_url_id)\n",
    "            download_wait(path_to_downloads)\n",
    "\n",
    "            driver.back()\n",
    "            wait.until(EC.presence_of_element_located((By.XPATH, '//div[contains(text(), \"Deferido\")]')))                           \n",
    "                   \n",
    "        driver.quit()    "
   ]
  },
  {
   "cell_type": "code",
   "execution_count": 5,
   "metadata": {},
   "outputs": [
    {
     "ename": "UnboundLocalError",
     "evalue": "local variable 'seconds' referenced before assignment",
     "output_type": "error",
     "traceback": [
      "\u001b[1;31m---------------------------------------------------------------------------\u001b[0m",
      "\u001b[1;31mUnboundLocalError\u001b[0m                         Traceback (most recent call last)",
      "\u001b[1;32m<ipython-input-5-aa8734118ae3>\u001b[0m in \u001b[0;36m<module>\u001b[1;34m\u001b[0m\n\u001b[0;32m      1\u001b[0m \u001b[0mstate\u001b[0m \u001b[1;33m=\u001b[0m \u001b[1;34m'RN'\u001b[0m\u001b[1;33m\u001b[0m\u001b[1;33m\u001b[0m\u001b[0m\n\u001b[0;32m      2\u001b[0m \u001b[0mcity\u001b[0m \u001b[1;33m=\u001b[0m \u001b[1;34m'NATAL'\u001b[0m\u001b[1;33m\u001b[0m\u001b[1;33m\u001b[0m\u001b[0m\n\u001b[1;32m----> 3\u001b[1;33m \u001b[0mdownload_proposal\u001b[0m\u001b[1;33m(\u001b[0m\u001b[0mstate\u001b[0m\u001b[1;33m,\u001b[0m \u001b[0mcity\u001b[0m\u001b[1;33m,\u001b[0m \u001b[0mwebdriver\u001b[0m\u001b[1;33m,\u001b[0m \u001b[0mpath_to_downloads\u001b[0m\u001b[1;33m)\u001b[0m\u001b[1;33m\u001b[0m\u001b[1;33m\u001b[0m\u001b[0m\n\u001b[0m",
      "\u001b[1;32m<ipython-input-4-798ecf977d43>\u001b[0m in \u001b[0;36mdownload_proposal\u001b[1;34m(state, city, webdriver, path_to_downloads)\u001b[0m\n\u001b[0;32m     49\u001b[0m \u001b[1;33m\u001b[0m\u001b[0m\n\u001b[0;32m     50\u001b[0m             \u001b[0mdriver\u001b[0m\u001b[1;33m.\u001b[0m\u001b[0mswitch_to\u001b[0m\u001b[1;33m.\u001b[0m\u001b[0mwindow\u001b[0m\u001b[1;33m(\u001b[0m\u001b[0mcandidate_url_id\u001b[0m\u001b[1;33m)\u001b[0m\u001b[1;33m\u001b[0m\u001b[1;33m\u001b[0m\u001b[0m\n\u001b[1;32m---> 51\u001b[1;33m             \u001b[0mdownload_wait\u001b[0m\u001b[1;33m(\u001b[0m\u001b[0mpath_to_downloads\u001b[0m\u001b[1;33m)\u001b[0m\u001b[1;33m\u001b[0m\u001b[1;33m\u001b[0m\u001b[0m\n\u001b[0m\u001b[0;32m     52\u001b[0m \u001b[1;33m\u001b[0m\u001b[0m\n\u001b[0;32m     53\u001b[0m             \u001b[0mdriver\u001b[0m\u001b[1;33m.\u001b[0m\u001b[0mback\u001b[0m\u001b[1;33m(\u001b[0m\u001b[1;33m)\u001b[0m\u001b[1;33m\u001b[0m\u001b[1;33m\u001b[0m\u001b[0m\n",
      "\u001b[1;32m<ipython-input-3-d40f4d8a8d7a>\u001b[0m in \u001b[0;36mdownload_wait\u001b[1;34m(path_to_downloads)\u001b[0m\n\u001b[0;32m     17\u001b[0m             \u001b[1;32mif\u001b[0m \u001b[0mfname\u001b[0m\u001b[1;33m.\u001b[0m\u001b[0mendswith\u001b[0m\u001b[1;33m(\u001b[0m\u001b[1;34m'.crdownload'\u001b[0m\u001b[1;33m)\u001b[0m\u001b[1;33m:\u001b[0m\u001b[1;33m\u001b[0m\u001b[1;33m\u001b[0m\u001b[0m\n\u001b[0;32m     18\u001b[0m                 \u001b[0mdl_wait\u001b[0m \u001b[1;33m=\u001b[0m \u001b[1;32mTrue\u001b[0m\u001b[1;33m\u001b[0m\u001b[1;33m\u001b[0m\u001b[0m\n\u001b[1;32m---> 19\u001b[1;33m         \u001b[0mseconds\u001b[0m \u001b[1;33m+=\u001b[0m \u001b[1;36m1\u001b[0m\u001b[1;33m\u001b[0m\u001b[1;33m\u001b[0m\u001b[0m\n\u001b[0m\u001b[0;32m     20\u001b[0m     \u001b[1;32mreturn\u001b[0m \u001b[0mseconds\u001b[0m\u001b[1;33m\u001b[0m\u001b[1;33m\u001b[0m\u001b[0m\n",
      "\u001b[1;31mUnboundLocalError\u001b[0m: local variable 'seconds' referenced before assignment"
     ]
    }
   ],
   "source": [
    "state = 'RN'\n",
    "city = 'NATAL'\n",
    "download_proposal(state, city, webdriver, path_to_downloads)"
   ]
  },
  {
   "cell_type": "code",
   "execution_count": null,
   "metadata": {},
   "outputs": [],
   "source": []
  }
 ],
 "metadata": {
  "kernelspec": {
   "display_name": "Python 3",
   "language": "python",
   "name": "python3"
  },
  "language_info": {
   "codemirror_mode": {
    "name": "ipython",
    "version": 3
   },
   "file_extension": ".py",
   "mimetype": "text/x-python",
   "name": "python",
   "nbconvert_exporter": "python",
   "pygments_lexer": "ipython3",
   "version": "3.7.6"
  }
 },
 "nbformat": 4,
 "nbformat_minor": 4
}
